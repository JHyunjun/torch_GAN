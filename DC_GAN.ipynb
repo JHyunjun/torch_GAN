{
  "nbformat": 4,
  "nbformat_minor": 0,
  "metadata": {
    "colab": {
      "name": "DC-GAN.ipynb",
      "private_outputs": true,
      "provenance": [],
      "collapsed_sections": [],
      "authorship_tag": "ABX9TyN+Oa22lg7Tikgi8DiOi6oB",
      "include_colab_link": true
    },
    "kernelspec": {
      "name": "python3",
      "display_name": "Python 3"
    },
    "language_info": {
      "name": "python"
    },
    "accelerator": "GPU"
  },
  "cells": [
    {
      "cell_type": "markdown",
      "metadata": {
        "id": "view-in-github",
        "colab_type": "text"
      },
      "source": [
        "<a href=\"https://colab.research.google.com/github/JHyunjun/torch_Generative-Adversarial-Network/blob/main/DC_GAN.ipynb\" target=\"_parent\"><img src=\"https://colab.research.google.com/assets/colab-badge.svg\" alt=\"Open In Colab\"/></a>"
      ]
    },
    {
      "cell_type": "code",
      "source": [
        "from google.colab import drive\n",
        "drive.mount('/content/drive')"
      ],
      "metadata": {
        "id": "8fRwlKZN1pPB"
      },
      "execution_count": null,
      "outputs": []
    },
    {
      "cell_type": "code",
      "source": [
        "# Code Maker : Hyunjun, JANG (KOR)\n",
        "# https://github.com/JHyunjun\n",
        "# DC-GAN AE(Deep Convolutional - Generative Adversarial Network AutoEncoder) for Transistor Image Anomaly Detection\n",
        "# Image Copy right : https://www.mvtec.com/company/research/datasets/mvtec-ad"
      ],
      "metadata": {
        "id": "UTiSfY8p1vbh"
      },
      "execution_count": null,
      "outputs": []
    },
    {
      "cell_type": "code",
      "source": [
        "#Image preprocessing\n",
        "\n",
        "from PIL import Image\n",
        "%matplotlib inline\n",
        "import matplotlib\n",
        "import matplotlib.pyplot as plt\n",
        "import torch\n",
        "from torch.utils.data import Dataset, DataLoader\n",
        "import numpy as np\n",
        "import torchvision\n",
        "from torchvision import transforms\n",
        "import torch.nn as nn\n",
        "from torch.autograd import Variable\n",
        "import torch.optim as optim\n",
        "import pandas as pd\n",
        "\n",
        "torch.cuda.manual_seed_all(7)\n",
        "\n",
        "target_img_size = 50\n",
        "\n",
        "trans = transforms.Compose([transforms.Resize((target_img_size,target_img_size)),transforms.ToTensor(), transforms.Normalize((0.5,0.5,0.5), (0.5,0.5,0.5))])\n",
        "\n",
        "trainset = torchvision.datasets.ImageFolder(root = \"/content/drive/MyDrive/Colab Notebooks/Data/img/anomaly_transistor/for_coding\", transform = trans) \n",
        "classes = trainset.classes\n",
        "classes"
      ],
      "metadata": {
        "id": "GIiMaKeW2m0R"
      },
      "execution_count": null,
      "outputs": []
    },
    {
      "cell_type": "code",
      "source": [
        "print(\"trainset.shape : \",trainset) #[16,2]"
      ],
      "metadata": {
        "id": "AZos4cAw7DXx"
      },
      "execution_count": null,
      "outputs": []
    },
    {
      "cell_type": "code",
      "source": [
        "trainloader = DataLoader(trainset, batch_size = len(trainset) , shuffle = False)"
      ],
      "metadata": {
        "id": "WfXhfE8T4FvZ"
      },
      "execution_count": null,
      "outputs": []
    },
    {
      "cell_type": "code",
      "source": [
        "dataiter = iter(trainloader)\n",
        "images, labels = dataiter.next()\n",
        "#images = images.transpose(1,2)\n",
        "#images = images.transpose(2,3) #[16, 100, 100, 3]\n",
        "print(images.shape)\n",
        "for i in range(len(trainset)) : \n",
        "  print( i, \"image is \", labels[i]) # 0 is abnormal, 1 is normal"
      ],
      "metadata": {
        "id": "G7haqjwn5z9Q"
      },
      "execution_count": null,
      "outputs": []
    },
    {
      "cell_type": "code",
      "source": [
        "'''\n",
        "# Image Check\n",
        "def imshow(img) : \n",
        "  img = img / 2 + 0.5\n",
        "  np_img = img.numpy()\n",
        "  print(\"np_img : \",np_img.shape) #[3,206,818]\n",
        "  plt.imshow(np.transpose(np_img, (1,2,0)))\n",
        "\n",
        "  print(np_img.shape)\n",
        "  print((np.transpose(np_img, (1,2,0))).shape)\n",
        "\n",
        "print(images.shape)\n",
        "imshow(torchvision.utils.make_grid(images, nrow = 8))\n",
        "'''"
      ],
      "metadata": {
        "id": "LpGsX3w_5e84"
      },
      "execution_count": null,
      "outputs": []
    },
    {
      "cell_type": "code",
      "source": [
        "#Normalizing\n",
        "for i in range(len(images)) : \n",
        "  images[i] = images[i] / 2 + 0.5\n",
        "  pass\n",
        "\n",
        "print(images[2].shape) #[100,100,3]"
      ],
      "metadata": {
        "id": "BNKKUFy4GLtI"
      },
      "execution_count": null,
      "outputs": []
    },
    {
      "cell_type": "code",
      "source": [
        "# 2D-CNN Network\n",
        "\n",
        "filters = 16\n",
        "latent_space = 1\n",
        "kernel_size = 5\n",
        "padding_size = 2\n",
        "\n",
        "class CNN(nn.Module) : \n",
        "  def __init__(self) : \n",
        "    super().__init__()\n",
        "    \n",
        "    self.a = nn.Conv2d(in_channels = 3, out_channels = filters, kernel_size = kernel_size, padding = padding_size, padding_mode = 'zeros')\n",
        "    self.b = nn.ReLU()\n",
        "    self.c = nn.Conv2d(in_channels = filters, out_channels = latent_space, kernel_size = kernel_size, padding = padding_size)\n",
        "    self.d = nn.ReLU()\n",
        "    self.e = nn.Conv2d(in_channels = latent_space , out_channels = filters, kernel_size = kernel_size, padding = padding_size)\n",
        "    self.f = nn.ReLU()\n",
        "    self.g = nn.Linear(filters * target_img_size * target_img_size, target_img_size * target_img_size * 3)\n",
        "\n",
        "    self.loss_function = nn.MSELoss()\n",
        "    self.optimiser = torch.optim.Adam(self.parameters(), lr = 1e-3)\n",
        "    self.progress = []\n",
        "    pass\n",
        "    \n",
        "  def forward(self, inputs) :\n",
        "    #print(\"inputs : \",inputs.shape)\n",
        "    x = self.a(inputs)\n",
        "    #print(\"A : \",x.shape)\n",
        "    x = self.b(x)\n",
        "    #print(\"B : \",x.shape)\n",
        "    x = self.c(x)\n",
        "    #print(\"C : \",x.shape)\n",
        "    x = self.d(x)\n",
        "    #print(\"D : \",x.shape)\n",
        "    x = self.e(x)\n",
        "    #print(\"E : \",x.shape)\n",
        "    x = self.f(x)\n",
        "    #print(\"F : \",x.shape)\n",
        "    x = torch.flatten(x)\n",
        "    #print(\"after flatten : \",x.shape)\n",
        "    x = self.g(x)\n",
        "    #print(\"G : \",x.shape)\n",
        "    x = x.reshape(3, target_img_size, target_img_size)\n",
        "    #print(\"Output : \",x.shape)\n",
        "    return x\n",
        "\n",
        "  def train(self,inputs) : \n",
        "    self.optimiser.zero_grad()\n",
        "    outputs = self.forward(inputs)\n",
        "    loss = self.loss_function(inputs,outputs)\n",
        "    loss.backward()\n",
        "    self.optimiser.step()\n",
        "\n",
        "  def plot_progress(self) : \n",
        "    df = pd.DataFrame(self.progress, columns = ['2D CNN AE Loss'])\n",
        "    df.plot(ylim=(0), figsize=(16,8), alpha=0.1, marker='.', grid=True, yticks=(0, 0.25, 0.5, 1.0, 5.0))\n",
        "    pass"
      ],
      "metadata": {
        "id": "7i7pMg_T5rUI"
      },
      "execution_count": null,
      "outputs": []
    },
    {
      "cell_type": "code",
      "source": [
        "D = CNN()"
      ],
      "metadata": {
        "id": "MvSRE06zR-JP"
      },
      "execution_count": null,
      "outputs": []
    },
    {
      "cell_type": "code",
      "source": [
        "epoch1 = 10 # number of normal data\n",
        "epoch2 = 50\n",
        "\n",
        "for i in range(epoch1) : \n",
        "  refs = images[i+6] # Abnormal image : 0~5\n",
        "  #refs = refs.reshape(1,32,32,3)\n",
        "  #print(refs.shape) #[100,100,3]\n",
        "  for j in range(epoch2) : \n",
        "    D.train(refs)\n",
        "  pass\n",
        "  print(\"Percentage : \",(i/epoch1)*100,\"%\")\n",
        "pass\n",
        "  \n",
        "\n"
      ],
      "metadata": {
        "id": "wspo4TvcRPbu"
      },
      "execution_count": null,
      "outputs": []
    },
    {
      "cell_type": "code",
      "source": [
        "plt.figure(figsize = (25,12))\n",
        "\n",
        "for i in range(1, 11) : \n",
        "  # Original\n",
        "  test = images[i+6-1]\n",
        "  test1 = test\n",
        "  test1 = test1.transpose(0,1)\n",
        "  test1 = test1.transpose(1,2)\n",
        "  ax = plt.subplot(3, 10, i)\n",
        "  plt.imshow(test1)\n",
        "  ax.get_xaxis().set_visible(False)\n",
        "  ax.get_yaxis().set_visible(False)\n",
        " \n",
        "  # Reconstructed\n",
        "  out = D.forward(test)\n",
        "  out1 = out\n",
        "  out1 = out1.transpose(0,1)\n",
        "  out1 = out1.transpose(1,2)\n",
        "  out1 = out1.detach().cpu().numpy()\n",
        "  ax = plt.subplot(3, 10, i + 10)\n",
        "  plt.imshow(out1)\n",
        "  ax.get_xaxis().set_visible(False)\n",
        "  ax.get_yaxis().set_visible(False)\n",
        "\n",
        "  # Error\n",
        "  Error = test - out\n",
        "  Error = torch.clamp(Error, min = 0, max = 1)\n",
        "  Error = Error.transpose(0,1)\n",
        "  Error = Error.transpose(1,2)\n",
        "  Error = Error.detach().cpu().numpy()\n",
        "  ax = plt.subplot(3, 10, i + 20)\n",
        "  plt.imshow(Error)\n",
        "  ax.get_xaxis().set_visible(False) \n",
        "  ax.get_yaxis().set_visible(False)\n",
        "\n",
        "plt.show()"
      ],
      "metadata": {
        "id": "fdGRoY4xby3O"
      },
      "execution_count": null,
      "outputs": []
    },
    {
      "cell_type": "code",
      "source": [
        "# Normal\n",
        "\n",
        "plt.figure(figsize = (25,12))\n",
        "Error_list_normal = np.zeros(6)\n",
        "\n",
        "for i in range(1, 7) : \n",
        "  # Original\n",
        "  test = images[i+6-1]\n",
        "  test1 = test\n",
        "  test1 = test1.transpose(0,1)\n",
        "  test1 = test1.transpose(1,2)\n",
        "  ax = plt.subplot(3, 6, i)\n",
        "  plt.imshow(test1)\n",
        "  ax.get_xaxis().set_visible(False)\n",
        "  ax.get_yaxis().set_visible(False)\n",
        " \n",
        "  # Reconstructed\n",
        "  out = D.forward(test)\n",
        "  out1 = out\n",
        "  out1 = out1.transpose(0,1)\n",
        "  out1 = out1.transpose(1,2)\n",
        "  out1 = out1.detach().cpu().numpy()\n",
        "  ax = plt.subplot(3, 6, i + 6)\n",
        "  plt.imshow(out1)\n",
        "  ax.get_xaxis().set_visible(False)\n",
        "  ax.get_yaxis().set_visible(False)\n",
        "\n",
        "  # Error\n",
        "  Error = test - out\n",
        "  Error = torch.clamp(Error, min = 0, max = 1)\n",
        "  Error_list_normal[i-1] = torch.mean(Error)\n",
        "  Error = Error.transpose(0,1)\n",
        "  Error = Error.transpose(1,2)\n",
        "  Error = Error.detach().cpu().numpy()\n",
        "  ax = plt.subplot(3, 6, i + 12)\n",
        "  plt.imshow(Error)\n",
        "  ax.get_xaxis().set_visible(False) \n",
        "  ax.get_yaxis().set_visible(False)\n",
        "\n",
        "print(Error_list_normal)\n",
        "plt.show()"
      ],
      "metadata": {
        "id": "OS4Ix80rmBlM"
      },
      "execution_count": null,
      "outputs": []
    },
    {
      "cell_type": "code",
      "source": [
        "# Abnormal\n",
        "Error_list_abnormal = np.zeros(6)\n",
        "plt.figure(figsize = (25,12))\n",
        "\n",
        "for i in range(1, 7) : \n",
        "  # Original\n",
        "  test = images[i]\n",
        "  test1 = test\n",
        "  test1 = test1.transpose(0,1)\n",
        "  test1 = test1.transpose(1,2)\n",
        "  ax = plt.subplot(3, 6, i)\n",
        "  plt.imshow(test1)\n",
        "  ax.get_xaxis().set_visible(False)\n",
        "  ax.get_yaxis().set_visible(False)\n",
        " \n",
        "  # Reconstructed\n",
        "  out = D.forward(test)\n",
        "  out1 = out\n",
        "  out1 = out1.transpose(0,1)\n",
        "  out1 = out1.transpose(1,2)\n",
        "  out1 = out1.detach().cpu().numpy()\n",
        "  ax = plt.subplot(3, 6, i + 6)\n",
        "  plt.imshow(out1)\n",
        "  ax.get_xaxis().set_visible(False)\n",
        "  ax.get_yaxis().set_visible(False)\n",
        "\n",
        "  # Error\n",
        "  Error = test - out\n",
        "  Error = torch.clamp(Error, min = 0, max = 1)\n",
        "  Error_list_abnormal[i-1] = torch.mean(Error)\n",
        "  Error = Error.transpose(0,1)\n",
        "  Error = Error.transpose(1,2)\n",
        "  Error = Error.detach().cpu().numpy()\n",
        "  ax = plt.subplot(3, 6, i + 12)\n",
        "  plt.imshow(Error)\n",
        "  ax.get_xaxis().set_visible(False) \n",
        "  ax.get_yaxis().set_visible(False)\n",
        "\n",
        "print(Error_list_abnormal)\n",
        "plt.show()"
      ],
      "metadata": {
        "id": "lX9qUjullW_2"
      },
      "execution_count": null,
      "outputs": []
    },
    {
      "cell_type": "code",
      "source": [
        "print(\"Normal : \", Error_list_normal)\n",
        "print(\"Abnormal : \", Error_list_abnormal)\n",
        "\n",
        "x = range(0,6)\n",
        "plt.plot(x, Error_list_normal,'ro')\n",
        "plt.plot(x, Error_list_abnormal, 'b-')"
      ],
      "metadata": {
        "id": "H6VSpoXl4QTT"
      },
      "execution_count": null,
      "outputs": []
    }
  ]
}