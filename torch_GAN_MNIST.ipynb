{
  "nbformat": 4,
  "nbformat_minor": 0,
  "metadata": {
    "colab": {
      "name": "torch_GAN_MNIST.ipynb",
      "private_outputs": true,
      "provenance": [],
      "collapsed_sections": [],
      "mount_file_id": "1PCFLd9qwQzyW8W54MB-rObcAyA0ppN_Y",
      "authorship_tag": "ABX9TyOnufu40jGG/Q3cO35RGfwN",
      "include_colab_link": true
    },
    "kernelspec": {
      "name": "python3",
      "display_name": "Python 3"
    },
    "language_info": {
      "name": "python"
    },
    "accelerator": "GPU"
  },
  "cells": [
    {
      "cell_type": "markdown",
      "metadata": {
        "id": "view-in-github",
        "colab_type": "text"
      },
      "source": [
        "<a href=\"https://colab.research.google.com/github/JHyunjun/torch_GAN/blob/main/torch_GAN_MNIST.ipynb\" target=\"_parent\"><img src=\"https://colab.research.google.com/assets/colab-badge.svg\" alt=\"Open In Colab\"/></a>"
      ]
    },
    {
      "cell_type": "code",
      "execution_count": null,
      "metadata": {
        "id": "FbTF80S_B1l1"
      },
      "outputs": [],
      "source": [
        "#Created by Hyunjun JANG\n",
        "#training GAN to check the performance with simple pattern\n",
        "\n",
        "import torch\n",
        "import torch.nn as nn\n",
        "import numpy as np\n",
        "import pandas as pd\n",
        "import matplotlib.pyplot as plt\n",
        "from torch.utils.data import Dataset\n",
        "import random\n",
        "\n",
        "csv_file = '/content/sample_data/mnist_test.csv'\n",
        "\n",
        "class MnistDataset(Dataset):\n",
        "    \n",
        "    def __init__(self, csv_file):\n",
        "        self.data_df = pd.read_csv(csv_file, header=None)\n",
        "        pass\n",
        "    \n",
        "    def __len__(self):\n",
        "        return len(self.data_df)\n",
        "    \n",
        "    def __getitem__(self, index):\n",
        "        # 이미지 목표(레이블)\n",
        "        label = self.data_df.iloc[index,0]\n",
        "        target = torch.zeros((10))\n",
        "        target[label] = 1.0\n",
        "        \n",
        "        # 0-255의 이미지를 0-1로 정규화\n",
        "        image_values = torch.FloatTensor(self.data_df.iloc[index,1:].values) / 255.0\n",
        "        \n",
        "        # 레이블, 이미지 데이터 텐서, 목표 텐서 반환\n",
        "        return label, image_values, target\n",
        "    \n",
        "    def plot_image(self, index):\n",
        "        img = self.data_df.iloc[index,1:].values.reshape(28,28)\n",
        "        plt.title(\"label = \" + str(self.data_df.iloc[index,0]))\n",
        "        plt.imshow(img, interpolation='none', cmap='Reds')\n",
        "        pass\n",
        "    \n",
        "    pass\n",
        "\n",
        "\n",
        "mnist_dataset = MnistDataset(csv_file)\n",
        "print(np.shape(mnist_dataset))"
      ]
    },
    {
      "cell_type": "code",
      "source": [
        "#Discriminator is learning about generate_real as true pattern and generate_random is false pattern\n",
        "\n",
        "Data_size = 784\n",
        "class Discriminator(nn.Module):\n",
        "    \n",
        "    def __init__(self):\n",
        "        # initialise parent pytorch class\n",
        "        super().__init__()\n",
        "        \n",
        "        # define neural network layers\n",
        "        self.model = nn.Sequential(\n",
        "            nn.Linear(Data_size, 200),\n",
        "            nn.Sigmoid(),\n",
        "            nn.Linear(200, 1),\n",
        "            nn.Sigmoid()\n",
        "        )\n",
        "        \n",
        "        # create loss function\n",
        "        self.loss_function = nn.MSELoss()\n",
        "\n",
        "        # create optimiser, simple stochastic gradient descent\n",
        "        self.optimiser = torch.optim.SGD(self.parameters(), lr=0.01)\n",
        "\n",
        "        # counter and accumulator for progress\n",
        "        self.counter = 0;\n",
        "        self.progress = []\n",
        "\n",
        "        pass\n",
        "    \n",
        "    \n",
        "    def forward(self, inputs):\n",
        "        # simply run model\n",
        "        return self.model(inputs)\n",
        "    \n",
        "    \n",
        "    def train(self, inputs, targets):\n",
        "        # calculate the output of the network\n",
        "        outputs = self.forward(inputs)\n",
        "        \n",
        "        # calculate loss\n",
        "        loss = self.loss_function(outputs, targets)\n",
        "\n",
        "        # increase counter and accumulate error every 10\n",
        "        self.counter += 1;\n",
        "        if (self.counter % 10 == 0):\n",
        "            self.progress.append(loss.item())\n",
        "            pass\n",
        "        if (self.counter % 10000 == 0):\n",
        "            print(\"counter = \", self.counter)\n",
        "            pass\n",
        "\n",
        "        # zero gradients, perform a backward pass, update weights\n",
        "        self.optimiser.zero_grad()\n",
        "        loss.backward()\n",
        "        self.optimiser.step()\n",
        "\n",
        "        pass\n",
        "    \n",
        "    \n",
        "    def plot_progress(self):\n",
        "        df = pd.DataFrame(self.progress, columns=['loss'])\n",
        "        df.plot(ylim=(0, 1.0), figsize=(16,8), alpha=0.1, marker='.', grid=True, yticks=(0, 0.25, 0.5))\n",
        "        pass\n",
        "    \n",
        "    pass"
      ],
      "metadata": {
        "id": "t1aNINzrVb60"
      },
      "execution_count": null,
      "outputs": []
    },
    {
      "cell_type": "code",
      "source": [
        "def generate_random(size) :\n",
        "  random_data = torch.rand(size)\n",
        "  return random_data\n",
        "\n",
        "def generate_random_seed(size):\n",
        "    random_data = torch.randn(size)\n",
        "    return random_data  "
      ],
      "metadata": {
        "id": "H05wVvV153iJ"
      },
      "execution_count": null,
      "outputs": []
    },
    {
      "cell_type": "code",
      "source": [
        "#Training the Discriminator\n",
        "D = Discriminator()\n",
        "targets = torch.FloatTensor([1.0])\n",
        "non_target = torch.FloatTensor([0.0])\n",
        "\n",
        "for label, image_data_tensor, target_tensor in mnist_dataset : \n",
        "  D.train(image_data_tensor, targets)\n",
        "  D.train(generate_random(784), non_target)\n",
        "\n",
        "  pass"
      ],
      "metadata": {
        "id": "Z22_RzplVuXW"
      },
      "execution_count": null,
      "outputs": []
    },
    {
      "cell_type": "code",
      "source": [
        "#Checking the performance of Discriminator\n",
        "D.plot_progress()"
      ],
      "metadata": {
        "id": "vA2-i2HFaEsj"
      },
      "execution_count": null,
      "outputs": []
    },
    {
      "cell_type": "code",
      "source": [
        "# Constructing Generator\n",
        "\n",
        "class Generator(nn.Module) : \n",
        "  def __init__(self) : \n",
        "    super().__init__()\n",
        "\n",
        "    self.model = nn.Sequential(\n",
        "        nn.Linear(1,200),\n",
        "        nn.Sigmoid(),\n",
        "        nn.Linear(200,Data_size),\n",
        "        nn.Sigmoid()\n",
        "    )\n",
        "\n",
        "    self.optimiser = torch.optim.SGD(self.parameters(), lr = 0.005)\n",
        "    self.counter = 0\n",
        "    self.progress = []\n",
        "\n",
        "    pass\n",
        "\n",
        "  def forward(self, inputs) : \n",
        "    return self.model(inputs)\n",
        "\n",
        "  def train(self, D, inputs, targets) : \n",
        "    g_output = self.forward(inputs)\n",
        "    d_output = D.forward(g_output)\n",
        "    loss = D.forward(g_output)\n",
        "    loss = D.loss_function(d_output, targets)\n",
        "\n",
        "    self.counter+=1;\n",
        "    if (self.counter % 10 == 0) :\n",
        "      self.progress.append(loss.item())\n",
        "      pass\n",
        "\n",
        "    self.optimiser.zero_grad()\n",
        "    loss.backward()\n",
        "    self.optimiser.step()\n",
        "\n",
        "  def plot_progress(self):\n",
        "        df = pd.DataFrame(self.progress, columns=['loss'])\n",
        "        df.plot(ylim=(0, 1.0), figsize=(16,8), alpha=0.1, marker='.', grid=True, yticks=(0, 0.25, 0.5))\n",
        "        \n",
        "  pass"
      ],
      "metadata": {
        "id": "FIbjv93gaLGE"
      },
      "execution_count": null,
      "outputs": []
    },
    {
      "cell_type": "code",
      "source": [
        "#Check a Generator\n",
        "G = Generator()\n",
        "output = G.forward(generate_random(1))\n",
        "img = output.detach().numpy().reshape(28,28)\n",
        "plt.imshow(img, interpolation = 'none', cmap = 'Reds')"
      ],
      "metadata": {
        "id": "SAD-6yfS5mLK"
      },
      "execution_count": null,
      "outputs": []
    },
    {
      "cell_type": "code",
      "source": [
        "#Training both Generator and Discriminator for pattern\n",
        "D = Discriminator()\n",
        "G = Generator()\n",
        "\n",
        "for label, image_data_tensor, target_tensor in mnist_dataset : \n",
        "  D.train(image_data_tensor, torch.FloatTensor([1.0]))\n",
        "  D.train(G.forward(generate_random(1)).detach(),torch.FloatTensor([0.0]))\n",
        "\n",
        "  G.train(D, generate_random(1), torch.FloatTensor([1.0]))\n",
        "  \n",
        "  pass"
      ],
      "metadata": {
        "id": "4xLvQ9x36hqD"
      },
      "execution_count": null,
      "outputs": []
    },
    {
      "cell_type": "code",
      "source": [
        "#Plotting the Generator Loss\n",
        "D.plot_progress()\n",
        "G.plot_progress()"
      ],
      "metadata": {
        "id": "cxxn8KEZ7oIq"
      },
      "execution_count": null,
      "outputs": []
    },
    {
      "cell_type": "code",
      "source": [
        "#Checking the result of Generator\n",
        "\n",
        "f, axarr = plt.subplots(2,3,figsize = (16,8))\n",
        "for i in range(2) : \n",
        "  for j in range(3) : \n",
        "    output = G.forward(generate_random(1))\n",
        "    img = output.detach().numpy().reshape(28,28)\n",
        "    axarr[i,j].imshow(img, interpolation = 'none', cmap = 'Reds')\n",
        "    pass\n",
        "\n",
        "pass"
      ],
      "metadata": {
        "id": "MiG3R4HB8Ogb"
      },
      "execution_count": null,
      "outputs": []
    }
  ]
}