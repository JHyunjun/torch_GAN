{
  "nbformat": 4,
  "nbformat_minor": 0,
  "metadata": {
    "colab": {
      "name": "LSTM_tf2.0.ipynb",
      "private_outputs": true,
      "provenance": [],
      "collapsed_sections": [],
      "mount_file_id": "1IkCycGeRzBCDiPUM_SZ1BMdw90S2bWjb",
      "authorship_tag": "ABX9TyPkDj7DZCEZX5k4AU51r5TG",
      "include_colab_link": true
    },
    "kernelspec": {
      "name": "python3",
      "display_name": "Python 3"
    },
    "language_info": {
      "name": "python"
    },
    "accelerator": "GPU"
  },
  "cells": [
    {
      "cell_type": "markdown",
      "metadata": {
        "id": "view-in-github",
        "colab_type": "text"
      },
      "source": [
        "<a href=\"https://colab.research.google.com/github/JHyunjun/torch_Generative-Adversarial-Network/blob/main/LSTM_tf2_0.ipynb\" target=\"_parent\"><img src=\"https://colab.research.google.com/assets/colab-badge.svg\" alt=\"Open In Colab\"/></a>"
      ]
    },
    {
      "cell_type": "code",
      "execution_count": null,
      "metadata": {
        "id": "44UfphRUC9Gb"
      },
      "outputs": [],
      "source": [
        "# Created by Hyunjun, JANG\n",
        "# limitsinx.tistory.com\n",
        "\n",
        "import numpy as np\n",
        "import pandas as pd\n",
        "import tensorflow as tf\n",
        "import pandas_datareader.data as pdr\n",
        "import matplotlib.pyplot as plt\n",
        "import datetime\n",
        "tf.random.set_seed(1)\n",
        "\n",
        "#length = 1800\n",
        "\n",
        "#Data Load\n",
        "df_train = pd.read_csv('/content/drive/MyDrive/Colab Notebooks/Data/Batt/train_v.txt')\n",
        "df_test = pd.read_csv('/content/drive/MyDrive/Colab Notebooks/Data/Batt/test_v.txt')\n",
        "train_data = df_train.iloc[:,:].values\n",
        "test_data = df_test.iloc[:,:].values\n",
        "print(train_data)\n",
        "print(test_data)\n",
        "\n",
        "trainSet = train_data\n",
        "testSet = test_data"
      ]
    },
    {
      "cell_type": "code",
      "source": [
        "from google.colab import drive\n",
        "drive.mount('/content/drive')"
      ],
      "metadata": {
        "id": "NzLNP7qANctb"
      },
      "execution_count": null,
      "outputs": []
    },
    {
      "cell_type": "code",
      "source": [
        "#Normalization\n",
        "\n",
        "#print(\"Before Norm : \",train_data_input.shape, train_data_input)\n",
        "\n",
        "def origin_minmax(data) : \n",
        "  arr_max = np.zeros(data.shape[1])\n",
        "  arr_min = np.zeros(data.shape[1])\n",
        "  print(arr_min)\n",
        "  print(data.shape[1])\n",
        "  for i in range(data.shape[1]) : \n",
        "    #print(i)\n",
        "    max = np.max(data[:,i])\n",
        "    min = np.min(data[:,i]) \n",
        "    arr_max[i] = max\n",
        "    arr_min[i] = min\n",
        "    pass\n",
        "  return arr_max, arr_min\n",
        "\n",
        "arr_max1, arr_min1 = origin_minmax(trainSet)\n",
        "arr_max2, arr_min2 = origin_minmax(testSet)\n",
        "#print(arr_max1, arr_min1)\n",
        "\n",
        "def MinMaxScaler(data):\n",
        "  for i in range(data.shape[1]) : \n",
        "    max = np.max(trainSet[:,i])\n",
        "    min = np.min(trainSet[:,i])\n",
        "    data[:,i] = (data[:,i] - min) / (max - min + 1e-7)\n",
        "    pass\n",
        "  return data\n",
        "\n",
        "testSet = MinMaxScaler(testSet)\n",
        "trainSet = MinMaxScaler(trainSet)\n",
        "\n",
        "def back_MinMax(data,max,min):\n",
        "  #print(max)\n",
        "  #print(min)\n",
        "  for i in range(data.shape[1]) : \n",
        "    data[:,i] = data[:,i] * (max[i] - min[i]) + min[i]\n",
        "    pass\n",
        "  return data\n",
        "\n",
        "print(\"trainSet : \",arr_max1, arr_min1)\n",
        "print(\"testSet : \",arr_max2, arr_min2)\n",
        "print(\"trainSet : \",trainSet)\n",
        "print(\"testSet : \",testSet)"
      ],
      "metadata": {
        "id": "3gxSIbYyEi6c"
      },
      "execution_count": null,
      "outputs": []
    },
    {
      "cell_type": "code",
      "source": [
        "#Hyper parameters\n",
        "seqLength = 10\n",
        "dataDim = df_test.shape[1]\n",
        "outputDim = 1\n",
        "hiddenDim = 10\n",
        "lr = 0.001\n",
        "iterations = 20\n",
        "batch_size = 32\n",
        "'''\n",
        "trainSize = int(len(train_data))\n",
        "trainSet = train_data[0:trainSize]\n",
        "testSize = int(len(test_data))\n",
        "testSet = test_data[0:testSize]\n",
        "testSet_for_result = testSet\n",
        "\n",
        "trainSet_max = np.max(trainSet)\n",
        "trainSet_min = np.min(trainSet)\n",
        "testSet_max = np.max(testSet)\n",
        "testSet_min = np.min(testSet)\n",
        "trainSet_max = (trainSet_max[dataDim-1])\n",
        "trainSet_min = (trainSet_min[dataDim-1])\n",
        "testSet_max = (testSet_max[dataDim-1])\n",
        "testSet_min = (testSet_min[dataDim-1])\n",
        "\n",
        "\n",
        "trainSet = MinMaxScaler(trainSet)\n",
        "testSet = MinMaxScaler(testSet)\n",
        "\n",
        "print(trainSet.shape) # (5807,5)\n",
        "print(testSet.shape) # (10882,5)\n",
        "'''"
      ],
      "metadata": {
        "id": "OjbFMLlfE_20"
      },
      "execution_count": null,
      "outputs": []
    },
    {
      "cell_type": "code",
      "source": [
        "#Data Windowing\n",
        "def sliding_window(time_series, seq_length):\n",
        "    dataX = []\n",
        "    dataY = []\n",
        "    for i in range(0, time_series.shape[0] - seq_length): \n",
        "        #print(i)\n",
        "        _x = time_series[i:i + seq_length, : -1 ]\n",
        "        _y = time_series[i + seq_length, [-1]]  \n",
        "        print(_x, \"->\", _y)\n",
        "        dataX.append(_x)\n",
        "        dataY.append(_y)\n",
        "    return np.array(dataX), np.array(dataY)\n",
        "\n",
        "trainX, trainY = sliding_window(trainSet, seqLength)\n",
        "testX, testY = sliding_window(testSet, seqLength)\n"
      ],
      "metadata": {
        "id": "EA-xTsJLG34M"
      },
      "execution_count": null,
      "outputs": []
    },
    {
      "cell_type": "code",
      "source": [
        "# Stacked LSTM Modeling\n",
        "# Return Sequences is very important for stacking\n",
        "# This means weather output is Sequence of this layer or all of sequences\n",
        "# Activation function \"tanh\" : Glorot normal initializer\n",
        "# Activation function \"reLU\" : He Initiailizer\n",
        "from tensorflow import keras\n",
        "from tensorflow.keras import layers\n",
        "\n",
        "initializer = tf.keras.initializers.GlorotNormal()\n",
        "input_dim = trainSet.shape[1]-1\n",
        "model = keras.Sequential()\n",
        "model.add(layers.LSTM(units = hiddenDim, activation='linear',input_shape = (seqLength,input_dim), return_sequences = True, kernel_initializer = initializer))\n",
        "model.add(layers.LSTM(units = hiddenDim, activation = 'linear',return_sequences = True, kernel_initializer = initializer))\n",
        "model.add(layers.LSTM(units = hiddenDim, activation = 'linear',return_sequences = True, kernel_initializer = initializer))\n",
        "model.add(layers.LSTM(units = hiddenDim, activation = 'linear',return_sequences = False, kernel_initializer = initializer))\n",
        "model.add(layers.Dense(outputDim, activation='linear'))\n",
        "adam = keras.optimizers.Adam(lr = lr)\n",
        "model.compile(optimizer=adam, loss='mse')\n",
        "model.summary()\n"
      ],
      "metadata": {
        "id": "dpgI1N9ZW1P0"
      },
      "execution_count": null,
      "outputs": []
    },
    {
      "cell_type": "code",
      "source": [
        "# Training\n",
        "hist = model.fit(trainX, trainY, epochs = iterations, batch_size = batch_size)"
      ],
      "metadata": {
        "id": "xjIIZqBue38u"
      },
      "execution_count": null,
      "outputs": []
    },
    {
      "cell_type": "code",
      "source": [
        "# Evaluate Testset\n",
        "res = model.evaluate(testX, testY, batch_size = batch_size)\n",
        "print(res)\n",
        "#res_batch_size1 = model.evaluate(testX, testY, batch_size = 1) #Very Slow\n"
      ],
      "metadata": {
        "id": "kQ-hAfInm4nL"
      },
      "execution_count": null,
      "outputs": []
    },
    {
      "cell_type": "code",
      "source": [
        "# Estimating\n",
        "xhat = trainX\n",
        "yhat = model.predict(xhat)\n",
        "#print(testY)\n",
        "print(yhat)\n",
        "\n",
        "#print(\"Evaluate : {}\".format(np.sqrt(np.average((yhat - testY)**2))))"
      ],
      "metadata": {
        "id": "zyDqzwynn_I1"
      },
      "execution_count": null,
      "outputs": []
    },
    {
      "cell_type": "code",
      "source": [
        "#Estimating\n",
        "maxs = np.max(trainSet[:,-1])\n",
        "mins = np.min(trainSet[:,-1])\n",
        "print(maxs,mins)\n",
        "estimated = yhat*(maxs-mins) + mins\n",
        "df_test = pd.read_csv('/content/drive/MyDrive/Colab Notebooks/Data/Batt/train_v.txt')\n",
        "testSet_for_result = df_train\n",
        "real = testSet_for_result.iloc[:testSet_for_result.shape[0]-seqLength,-1] # estimated + seqLength\n",
        "print(estimated)"
      ],
      "metadata": {
        "id": "QQ5woOSHrrmk"
      },
      "execution_count": null,
      "outputs": []
    },
    {
      "cell_type": "markdown",
      "source": [
        ""
      ],
      "metadata": {
        "id": "qBuFuT_hhAym"
      }
    },
    {
      "cell_type": "code",
      "source": [
        "plt.figure()\n",
        "time1 = 0\n",
        "time2 = 300\n",
        "plt.plot(estimated[time1:time2],label = \"Estimated by Stacked LSTM\")\n",
        "plt.plot(real[time1:time2], label = \"Real\")\n",
        "plt.legend(prop = {'size':10})\n",
        "print(estimated)\n",
        "\n",
        "plt.figure()\n",
        "plt.plot(estimated[time1:time2],label = \"Estimated by Stacked LSTM\")\n",
        "plt.legend(prop = {'size':10})\n",
        "\n",
        "plt.figure()\n",
        "plt.plot(real[time1:time2], label = \"Real\")\n",
        "plt.legend(prop = {'size':10})\n"
      ],
      "metadata": {
        "id": "U__JUtnEzkRJ"
      },
      "execution_count": null,
      "outputs": []
    },
    {
      "cell_type": "code",
      "source": [
        "#Generated by GAN data\n",
        "\n",
        "gan1 = pd.read_csv('/content/drive/MyDrive/Colab Notebooks/GAN/pytorch/Timeseries-GAN/proof/220330/220330_GEN_IntegralCAP.txt')\n",
        "gan2 = pd.read_csv('/content/drive/MyDrive/Colab Notebooks/GAN/pytorch/Timeseries-GAN/proof/220330/220330_GEN_genCAP.txt')\n",
        "print(gan1.shape)\n",
        "\n",
        "gan1 = gan1.values\n",
        "gan2 = gan2.values\n",
        "\n",
        "df_train = pd.read_csv('/content/drive/MyDrive/Colab Notebooks/Data/Batt/train_v.txt')\n",
        "trainSet = df_train.values\n",
        "\n",
        "soc_arrange = 0\n",
        "\n",
        "gan1[:,2] = gan1[:,2] + soc_arrange\n",
        "gan2[:,2] = gan2[:,2] + soc_arrange\n",
        "\n",
        "def MinMaxScaler(data):\n",
        "  for i in range(data.shape[1]) : \n",
        "    max = np.max(trainSet[:,i])\n",
        "    min = np.min(trainSet[:,i])\n",
        "    data[:,i] = (data[:,i] - min) / (max - min + 1e-7)\n",
        "    pass\n",
        "  return data\n",
        "\n",
        "#Data Windowing\n",
        "def sliding_window(time_series, seq_length):\n",
        "    dataX = []\n",
        "    dataY = []\n",
        "    for i in range(0, time_series.shape[0] - seq_length): \n",
        "        #print(i)\n",
        "        _x = time_series[i:i + seq_length, : -1 ]\n",
        "        _y = time_series[i + seq_length, [-1]]  \n",
        "        #print(_x, \"->\", _y)\n",
        "        dataX.append(_x)\n",
        "        dataY.append(_y)\n",
        "    return np.array(dataX), np.array(dataY)\n",
        "\n",
        "gan1 = MinMaxScaler(gan1)\n",
        "gan2 = MinMaxScaler(gan2)\n",
        "\n",
        "#print(gan1)\n",
        "\n",
        "trainX_gan1, trainY_gan1 = sliding_window(gan1, seqLength)\n",
        "trainX_gan2, trainY_gan2 = sliding_window(gan2, seqLength)"
      ],
      "metadata": {
        "id": "fLYxaeDdd4Sj"
      },
      "execution_count": null,
      "outputs": []
    },
    {
      "cell_type": "code",
      "source": [
        "yhat_gan1 = model.predict(trainX_gan1)\n",
        "yhat_gan2 = model.predict(trainX_gan2)"
      ],
      "metadata": {
        "id": "CSlFc5z2fFog"
      },
      "execution_count": null,
      "outputs": []
    },
    {
      "cell_type": "code",
      "source": [
        "print(maxs,mins)\n",
        "yhat_gan1_denorm = yhat_gan1*(233.3) + mins\n",
        "yhat_gan2_denorm = yhat_gan2*(233.3) + mins\n",
        "\n",
        "trainY_gan1_denorm = trainY_gan1*(maxs-mins) + mins\n",
        "trainY_gan2_denorm = trainY_gan2*(maxs-mins) + mins\n",
        "#print(\"1 : \",trainY_gan1_denorm)\n",
        "#print(\"2 : \",trainY_gan2_denorm)"
      ],
      "metadata": {
        "id": "YR9wEV8Of8gX"
      },
      "execution_count": null,
      "outputs": []
    },
    {
      "cell_type": "code",
      "source": [
        "real1 = trainY_gan1_denorm\n",
        "real2 = trainY_gan2_denorm\n",
        "plt.figure()\n",
        "plt.plot(yhat_gan1_denorm,label = \"GAN1_Integral CAP\")\n",
        "plt.plot(real1, label = \"Generated_Volt\")\n",
        "plt.legend(prop = {'size':10})\n",
        "\n",
        "plt.figure()\n",
        "error = real1\n",
        "\n",
        "plt.figure()\n",
        "plt.plot(yhat_gan2_denorm,label = \"GAN2_gen CAP\")\n",
        "plt.plot(real2, label = \"Generated Volt\")\n",
        "plt.legend(prop = {'size':10})"
      ],
      "metadata": {
        "id": "x8H4m4VDh1hv"
      },
      "execution_count": null,
      "outputs": []
    },
    {
      "cell_type": "code",
      "source": [
        "print(yhat_gan1_denorm.shape)\n",
        "print(trainY_gan1_denorm.shape)"
      ],
      "metadata": {
        "id": "L3iLINlVowm_"
      },
      "execution_count": null,
      "outputs": []
    }
  ]
}