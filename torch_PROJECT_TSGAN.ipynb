{
  "nbformat": 4,
  "nbformat_minor": 0,
  "metadata": {
    "colab": {
      "name": "torch_PROJECT_TSGAN.ipynb",
      "private_outputs": true,
      "provenance": [],
      "collapsed_sections": [],
      "mount_file_id": "1q3VP3TSrrYjdjNuGLr-dkt6LQn9zHVwU",
      "authorship_tag": "ABX9TyMsyBoR+K3g3o079f6oaO7B",
      "include_colab_link": true
    },
    "kernelspec": {
      "name": "python3",
      "display_name": "Python 3"
    },
    "language_info": {
      "name": "python"
    },
    "accelerator": "GPU"
  },
  "cells": [
    {
      "cell_type": "markdown",
      "metadata": {
        "id": "view-in-github",
        "colab_type": "text"
      },
      "source": [
        "<a href=\"https://colab.research.google.com/github/JHyunjun/torch_Generative-Adversarial-Network/blob/main/torch_PROJECT_TSGAN.ipynb\" target=\"_parent\"><img src=\"https://colab.research.google.com/assets/colab-badge.svg\" alt=\"Open In Colab\"/></a>"
      ]
    },
    {
      "cell_type": "code",
      "execution_count": null,
      "metadata": {
        "id": "KmDTowMAQJyd"
      },
      "outputs": [],
      "source": [
        "from numpy import array\n",
        "import pandas as pd\n",
        "import numpy as np\n",
        "import pandas_datareader.data as pdr\n",
        "import matplotlib.pyplot as plt\n",
        "import datetime\n",
        "\n",
        "import torch\n",
        "import torch.nn as nn\n",
        "from torch.autograd import Variable\n",
        "import torch.optim as optim\n",
        "from torch.utils.data import Dataset, DataLoader\n",
        "from sklearn.preprocessing import StandardScaler, MinMaxScaler\n",
        "\n",
        "#Data Load\n",
        "df_train = pd.read_csv('/content/drive/MyDrive/Colab Notebooks/Data/Batt/train_v.txt') \n",
        "df_test = pd.read_csv('/content/drive/MyDrive/Colab Notebooks/Data/Batt/test_v.txt')\n",
        "train_data_input = df_train.iloc[:,:-1]\n",
        "train_data_output = df_train.iloc[:,-1]\n",
        "test_data_input = df_test.iloc[:,:-1]\n",
        "test_data_output = df_test.iloc[:,-1]\n",
        "\n",
        "train_data = df_train.iloc[:,:]\n",
        "test_data = df_test.iloc[:,:]\n",
        "\n",
        "trainSet_for_result = train_data\n",
        "testSet_for_result = test_data\n",
        "\n",
        "print(\"train data input : \",train_data_input.shape,train_data_input)\n",
        "print(\"train data output : \",train_data_output.shape, train_data_output)\n",
        "print(\"train_data : \",train_data.shape,train_data)\n",
        "print(\"test_data : \",test_data.shape,test_data)"
      ]
    },
    {
      "cell_type": "code",
      "source": [
        "#train_gan = df_train.iloc[0:len(df_train),2]\n",
        "train_gan = df_train.iloc[0:600, 2]\n",
        "print(train_gan.shape)\n",
        "print(train_gan)\n",
        "#print(len(train_gan))\n",
        "\n",
        "train_gan2 = train_gan\n",
        "#train_gan2 = df_train.iloc[200:400, -1]\n",
        "train_gan2 = train_gan2.to_numpy()\n",
        "print(train_gan2.shape)"
      ],
      "metadata": {
        "id": "07WvH2coQkeo"
      },
      "execution_count": null,
      "outputs": []
    },
    {
      "cell_type": "code",
      "source": [
        "#Normalization\n",
        "def MinMaxScaler(data):\n",
        "  denom = np.max(data,0) - np.min(data,0)\n",
        "  #denom = 750 - 450\n",
        "  nume = data-np.min(data,0)\n",
        "  #nume = data - 450\n",
        "  return nume/denom\n",
        "\n",
        "def back_MinMax(data,max,min):\n",
        "  #max = 750\n",
        "  #min = 450\n",
        "  diff = max - min\n",
        "  back = data * diff + min\n",
        "  return back\n",
        "\n",
        "#train_gan_norm = MinMaxScaler(train_gan)\n",
        "print(train_gan.shape)\n",
        "train_gan_max = np.max(train_gan)\n",
        "train_gan_min = np.min(train_gan)\n",
        "train_gan = MinMaxScaler(train_gan)\n",
        "train_gan = torch.tensor(train_gan)\n",
        "#train_gan_flatten = torch.flatten(train_gan)\n",
        "#train_gan_flatten = train_gan_flatten.double().type()\n",
        "train_gan = torch.tensor(train_gan, dtype = torch.float32)\n",
        "train_gan_flatten = train_gan\n",
        "print(train_gan_flatten)\n",
        "\n",
        "print(\"train_gan_max : \", train_gan_max)\n",
        "print(\"train_gan_min : \", train_gan_min)"
      ],
      "metadata": {
        "id": "tcs7K7ZuQ6CQ"
      },
      "execution_count": null,
      "outputs": []
    },
    {
      "cell_type": "code",
      "source": [
        "#train_gan_norm = MinMaxScaler(train_gan)\n",
        "print(train_gan2.shape)\n",
        "train_gan2_max = np.max(train_gan2)\n",
        "train_gan2_min = np.min(train_gan2)\n",
        "train_gan2 = MinMaxScaler(train_gan2)\n",
        "train_gan2 = torch.tensor(train_gan2)\n",
        "#train_gan_flatten = torch.flatten(train_gan)\n",
        "#train_gan_flatten = train_gan_flatten.double().type()\n",
        "train_gan2 = torch.tensor(train_gan2, dtype = torch.float32)\n",
        "train_gan2_flatten = train_gan2\n",
        "print(train_gan2_flatten)"
      ],
      "metadata": {
        "id": "PmRM6SxLCRnG"
      },
      "execution_count": null,
      "outputs": []
    },
    {
      "cell_type": "code",
      "source": [
        "Data_size = 60\n",
        "print(Data_size)\n",
        "latent_space = 100\n",
        "\n",
        "class Discriminator(nn.Module):\n",
        "    \n",
        "    def __init__(self):\n",
        "        # initialise parent pytorch class\n",
        "        super().__init__()\n",
        "        \n",
        "        # define neural network layers\n",
        "        self.model = nn.Sequential(\n",
        "            nn.Linear(Data_size, latent_space), # (Datasize,latent_space)\n",
        "            nn.LeakyReLU(0.02),\n",
        "            nn.LayerNorm(latent_space), \n",
        "            nn.Linear(latent_space, 1), # (latent_space ,1)\n",
        "            nn.Sigmoid()\n",
        "        )\n",
        "        \n",
        "        # create loss function\n",
        "        self.loss_function = nn.BCELoss()\n",
        "\n",
        "        # create optimiser, simple stochastic gradient descent\n",
        "        self.optimiser = torch.optim.Adam(self.parameters(), lr=0.0001)\n",
        "\n",
        "        # counter and accumulator for progress\n",
        "        self.counter = 0;\n",
        "        self.progress = []\n",
        "        pass\n",
        "    \n",
        "    def forward(self, inputs):\n",
        "        # simply run model\n",
        "        return self.model(inputs)\n",
        "    \n",
        "    def train(self, inputs, targets):\n",
        "        # calculate the output of the network\n",
        "        outputs = self.forward(inputs)\n",
        "        \n",
        "        # calculate loss\n",
        "        loss = self.loss_function(outputs, targets)\n",
        "\n",
        "        # increase counter and accumulate error every 10\n",
        "        self.counter += 1;\n",
        "        if (self.counter % 10 == 0):\n",
        "            self.progress.append(loss.item())\n",
        "            pass\n",
        "        if (self.counter % 3000 == 0):\n",
        "            print(\"counter = \", self.counter)\n",
        "            pass\n",
        "\n",
        "        # zero gradients, perform a backward pass, update weights\n",
        "        self.optimiser.zero_grad()\n",
        "        loss.backward()\n",
        "        self.optimiser.step()\n",
        "        pass\n",
        "    \n",
        "    def plot_progress(self):\n",
        "        df = pd.DataFrame(self.progress, columns=['Discriminator loss'])\n",
        "        df.plot(ylim=(0), figsize=(16,8), alpha=0.1, marker='.', grid=True, yticks=(0, 0.25, 0.5, 1.0, 5.0))\n",
        "        pass\n",
        "    \n",
        "    pass"
      ],
      "metadata": {
        "id": "2WbOaDTmRJhx"
      },
      "execution_count": null,
      "outputs": []
    },
    {
      "cell_type": "code",
      "source": [
        "def generate_random(size) :\n",
        "  random_data = torch.rand(size)\n",
        "  return random_data\n",
        "\n",
        "def generate_random_seed(size):\n",
        "    random_data = torch.randn(size)\n",
        "    return random_data  \n",
        "\n",
        "def generate_random_image(size) : \n",
        "  random_data = torch.rand(size)\n",
        "  return random_data"
      ],
      "metadata": {
        "id": "1D7HqCC_STAO"
      },
      "execution_count": null,
      "outputs": []
    },
    {
      "cell_type": "code",
      "source": [
        "#Training the Discriminator\n",
        "N = 1000  #iterations\n",
        "#train_gan_flatten = train_gan_flatten.double\n",
        "#print((train_gan_flatten.double)) #pandas.core.frame.DataFrame\n",
        "\n",
        "D = Discriminator()\n",
        "targets = torch.FloatTensor([1.0])\n",
        "non_target = torch.FloatTensor([0.0])\n",
        "\n",
        "#for i in range(N) : \n",
        "#  D.train(train_gan_flatten, targets)\n",
        "#  D.train(generate_random_image(Data_size), non_target)\n",
        "\n",
        "#  pass"
      ],
      "metadata": {
        "id": "OrhqRPbfSUhN"
      },
      "execution_count": null,
      "outputs": []
    },
    {
      "cell_type": "code",
      "source": [
        "#Checking the performance of Discriminator\n",
        "#D.plot_progress()"
      ],
      "metadata": {
        "id": "g4wRD6Qlg1ia"
      },
      "execution_count": null,
      "outputs": []
    },
    {
      "cell_type": "code",
      "source": [
        "# Constructing Generator\n",
        "\n",
        "class Generator(nn.Module) : \n",
        "  def __init__(self) : \n",
        "    super().__init__()\n",
        "\n",
        "    self.model = nn.Sequential(\n",
        "        nn.Linear(100,200),\n",
        "        nn.LeakyReLU(0.02),\n",
        "        nn.LayerNorm(200),\n",
        "\n",
        "        nn.Linear(200,Data_size),\n",
        "        nn.Sigmoid() #과연 Sigmoid가 최선인가\n",
        "    )\n",
        "\n",
        "    self.optimiser = torch.optim.Adam(self.parameters(), lr = 0.0001)\n",
        "    self.counter = 0\n",
        "    self.progress = []\n",
        "\n",
        "    pass\n",
        "\n",
        "  def forward(self, inputs) : \n",
        "    return self.model(inputs)\n",
        "\n",
        "  def train(self, D, inputs, targets) : \n",
        "    g_output = self.forward(inputs)\n",
        "    d_output = D.forward(g_output)\n",
        "    loss = D.forward(g_output)\n",
        "    loss = D.loss_function(d_output, targets)\n",
        "\n",
        "    self.counter+=1;\n",
        "    if (self.counter % 10 == 0) :\n",
        "      self.progress.append(loss.item())\n",
        "      pass\n",
        "\n",
        "    self.optimiser.zero_grad()\n",
        "    loss.backward()\n",
        "    self.optimiser.step()\n",
        "\n",
        "  def plot_progress(self):\n",
        "        df = pd.DataFrame(self.progress, columns=['Generator loss'])\n",
        "        df.plot(ylim=(0), figsize=(16,8), alpha=0.1, marker='.', grid=True, yticks=(0, 0.25, 0.5, 1.0, 5.0))\n",
        "        \n",
        "  pass"
      ],
      "metadata": {
        "id": "YZnDz9M8g40L"
      },
      "execution_count": null,
      "outputs": []
    },
    {
      "cell_type": "code",
      "source": [
        "#Training both Generator and Discriminator for pattern\n",
        "D = Discriminator()\n",
        "G = Generator()\n",
        "\n",
        "epochs = 1000\n",
        "iteration = int(len(train_gan)/Data_size)*2 - 1\n",
        "print(\"Data size : \", Data_size, \"len(train_gan) : \", len(train_gan), \"iteration : \",iteration)\n",
        "for i in range(iteration) : #i는 0부터 시작 \n",
        "  print(i)\n",
        "  for epoch in range(epochs) :\n",
        "    ref = train_gan[(i)*int(Data_size/2) : (i+2)*int(Data_size/2)] #Normalizing된 신호\n",
        "    ref = torch.tensor(ref, dtype = torch.float32)\n",
        "\n",
        "    D.train(ref, torch.FloatTensor([1.0]))\n",
        "    D.train(G.forward(generate_random_seed(100)).detach(),torch.FloatTensor([0.0]))\n",
        "\n",
        "    G.train(D, generate_random_seed(100), torch.FloatTensor([1.0]))\n",
        "    pass\n",
        "  pass\n"
      ],
      "metadata": {
        "id": "uQYCK5Ppg9oy"
      },
      "execution_count": null,
      "outputs": []
    },
    {
      "cell_type": "code",
      "source": [
        "#Plotting the Generator Loss\n",
        "D.plot_progress()\n",
        "G.plot_progress()\n",
        "print(len(train_gan)) "
      ],
      "metadata": {
        "id": "pWbA0z-qhEh5"
      },
      "execution_count": null,
      "outputs": []
    },
    {
      "cell_type": "code",
      "source": [
        "#Test\n",
        "seed = generate_random_seed(100)\n",
        "out = G.forward(seed)\n",
        "out_value = out.detach().numpy()\n",
        "\n",
        "out_value_denorm = back_MinMax(out_value, train_gan_max, train_gan_min)\n",
        "#print(out_value_denorm)\n",
        "#print(out_value)\n",
        "\n",
        "plt.figure()\n",
        "plt.plot(out_value_denorm, label = \"Generated Voltage Data\")\n",
        "plt.legend(prop = {'size':10})\n",
        "\n",
        "train_gan_denorm = back_MinMax(train_gan, train_gan_max, train_gan_min)\n",
        "\n",
        "plt.figure()\n",
        "plt.plot(train_gan_denorm[0:Data_size], label = \"Original Data\")\n",
        "plt.legend(prop = {'size':10})"
      ],
      "metadata": {
        "id": "5a-xtLcwh4U6"
      },
      "execution_count": null,
      "outputs": []
    },
    {
      "cell_type": "code",
      "source": [
        "now = datetime.datetime.now()\n",
        "print(now) \n"
      ],
      "metadata": {
        "id": "W2PfZTr6ik3U"
      },
      "execution_count": null,
      "outputs": []
    },
    {
      "cell_type": "code",
      "source": [
        "#Test2\n",
        "seed2 = generate_random_seed(100)\n",
        "out = G.forward(seed2)\n",
        "out_value = out.detach().numpy()\n",
        "out_value_denorm2 = back_MinMax(out_value, train_gan_max, train_gan_min)\n",
        "#print(out_value_denorm)\n",
        "\n",
        "#Test3\n",
        "seed3 = generate_random_seed(100)\n",
        "out = G.forward(seed3)\n",
        "out_value = out.detach().numpy()\n",
        "out_value_denorm3 = back_MinMax(out_value, train_gan_max, train_gan_min)\n",
        "\n",
        "#Test4\n",
        "seed4 = generate_random_seed(100)\n",
        "out = G.forward(seed4)\n",
        "out_value = out.detach().numpy()\n",
        "out_value_denorm4 = back_MinMax(out_value, train_gan_max, train_gan_min)\n",
        "\n",
        "plt.figure()\n",
        "plt.plot(out_value_denorm2, label = \"Generated Voltage Data1\")\n",
        "plt.legend(prop = {'size':10})\n",
        "\n",
        "plt.figure()\n",
        "plt.plot(out_value_denorm3, label = \"Generated Voltage Data2\")\n",
        "plt.legend(prop = {'size':10})\n",
        "\n",
        "plt.figure()\n",
        "plt.plot(out_value_denorm4, label = \"Generated Voltage Data3\")\n",
        "plt.legend(prop = {'size':10})\n",
        "\n",
        "plt.figure()\n",
        "plt.plot(train_gan_denorm[len(train_gan) - Data_size:len(train_gan)], label = \"Original Data\")\n",
        "plt.legend(prop = {'size':10})"
      ],
      "metadata": {
        "id": "sSZEKPem7tAv"
      },
      "execution_count": null,
      "outputs": []
    },
    {
      "cell_type": "code",
      "source": [
        "#Test2\n",
        "seed2 = generate_random_seed(100)\n",
        "out = G.forward(seed2)\n",
        "out_value = out.detach().numpy()\n",
        "out_value_denorm2 = back_MinMax(out_value, train_gan_max, train_gan_min)\n",
        "#print(out_value_denorm)\n",
        "\n",
        "#Test3\n",
        "seed3 = generate_random_seed(100)\n",
        "out = G.forward(seed3)\n",
        "out_value = out.detach().numpy()\n",
        "out_value_denorm3 = back_MinMax(out_value, train_gan_max, train_gan_min)\n",
        "\n",
        "#Test4\n",
        "seed4 = generate_random_seed(100)\n",
        "out = G.forward(seed4)\n",
        "out_value = out.detach().numpy()\n",
        "out_value_denorm4 = back_MinMax(out_value, train_gan_max, train_gan_min)\n",
        "\n",
        "plt.figure()\n",
        "plt.plot(out_value_denorm2, label = \"Generated Voltage Data4\")\n",
        "plt.legend(prop = {'size':10})\n",
        "\n",
        "plt.figure()\n",
        "plt.plot(out_value_denorm3, label = \"Generated Voltage Data5\")\n",
        "plt.legend(prop = {'size':10})\n",
        "\n",
        "plt.figure()\n",
        "plt.plot(out_value_denorm4, label = \"Generated Voltage Data6\")\n",
        "plt.legend(prop = {'size':10})\n",
        "\n",
        "plt.figure()\n",
        "plt.plot(train_gan_denorm[len(train_gan) - Data_size:len(train_gan)], label = \"Original Data\")\n",
        "plt.legend(prop = {'size':10})"
      ],
      "metadata": {
        "id": "wNMhLo9NXH5e"
      },
      "execution_count": null,
      "outputs": []
    }
  ]
}